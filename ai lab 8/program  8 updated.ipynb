{
 "cells": [
  {
   "cell_type": "code",
   "execution_count": 40,
   "metadata": {},
   "outputs": [],
   "source": [
    "import re\n",
    "\n",
    "def getAttributes(expression):\n",
    "    expression = expression.split(\"(\")[1:]\n",
    "    expression = \"(\".join(expression)\n",
    "    expression = expression[:-1]\n",
    "    expression = re.split(\"(?<!\\(.),(?!.\\))\", expression)\n",
    "    return expression"
   ]
  },
  {
   "cell_type": "code",
   "execution_count": 41,
   "metadata": {},
   "outputs": [],
   "source": [
    "def getInitialPredicate(expression):\n",
    "    return expression.split(\"(\")[0]\n",
    "\n",
    "def isConstant(char):\n",
    "    return char.isupper() and len(char) == 1\n",
    "\n",
    "def isVariable(char):\n",
    "    return char.islower() and len(char) == 1\n",
    "\n",
    "def replaceAttributes(exp, old, new):\n",
    "    attributes = getAttributes(exp)\n",
    "    for index, val in enumerate(attributes):\n",
    "        if val == old:\n",
    "            attributes[index] = new\n",
    "    predicate = getInitialPredicate(exp)\n",
    "    return predicate + \"(\" + \",\".join(attributes) + \")\"\n",
    "\n",
    "def apply(exp, substitutions):\n",
    "    for substitution in substitutions:\n",
    "        new, old = substitution[0],substitution[2]\n",
    "        exp = replaceAttributes(exp, old, new)\n",
    "    return exp"
   ]
  },
  {
   "cell_type": "code",
   "execution_count": 42,
   "metadata": {},
   "outputs": [],
   "source": [
    "def checkOccurs(var, exp):\n",
    "    if exp.find(var) == -1:\n",
    "        return False\n",
    "    return True\n",
    "\n",
    "\n",
    "def getFirstPart(expression):\n",
    "    attributes = getAttributes(expression)\n",
    "    return attributes[0]\n",
    "\n",
    "\n",
    "def getRemainingPart(expression):\n",
    "    predicate = getInitialPredicate(expression)\n",
    "    attributes = getAttributes(expression)\n",
    "    newExpression = predicate + \"(\" + \",\".join(attributes[1:]) + \")\"\n",
    "    return newExpression"
   ]
  },
  {
   "cell_type": "code",
   "execution_count": 43,
   "metadata": {},
   "outputs": [],
   "source": [
    "def unify(exp1, exp2):\n",
    "    if exp1 == exp2:\n",
    "        return []\n",
    "\n",
    "    if isConstant(exp1) and isConstant(exp2):\n",
    "        if exp1 != exp2:\n",
    "            return False\n",
    "\n",
    "    if isConstant(exp1):\n",
    "        return [(exp1,'|', exp2)]\n",
    "\n",
    "    if isConstant(exp2):\n",
    "        return [(exp2,'|', exp1)]\n",
    "\n",
    "    if isVariable(exp1):\n",
    "        if checkOccurs(exp1, exp2):\n",
    "            \n",
    "            return False\n",
    "        else:\n",
    "            \n",
    "            return [(exp2,'|', exp1)]\n",
    "\n",
    "    if isVariable(exp2):\n",
    "        if checkOccurs(exp2, exp1):\n",
    "            return False\n",
    "        else:\n",
    "            return [(exp1,'|', exp2)]\n",
    "\n",
    "    if getInitialPredicate(exp1) != getInitialPredicate(exp2):\n",
    "        print(\"Predicates do not match. Cannot be unified\")\n",
    "        return False\n",
    "\n",
    "    attributeCount1 = len(getAttributes(exp1))\n",
    "\n",
    "    attributeCount2 = len(getAttributes(exp2))\n",
    "\n",
    "    if attributeCount1 != attributeCount2:\n",
    "        return False\n",
    "\n",
    "    head1 = getFirstPart(exp1)\n",
    "    print(\"Head1 \",head1)\n",
    "    head2 = getFirstPart(exp2)\n",
    "    print(\"Head2 \",head2)\n",
    "    initialSubstitution = unify(head1, head2)\n",
    "    print(\"initial \",initialSubstitution)\n",
    "    \n",
    "    if not initialSubstitution:\n",
    "        return False\n",
    "    if attributeCount1 == 1:\n",
    "        return initialSubstitution\n",
    "\n",
    "    tail1 = getRemainingPart(exp1)\n",
    "    print(\"tail1 \",tail1)\n",
    "    tail2 = getRemainingPart(exp2)\n",
    "    print(\"tail2 \",tail2)\n",
    "\n",
    "    if initialSubstitution != []:\n",
    "        tail1 = apply(tail1, initialSubstitution)\n",
    "        print(\"tail11 \",tail1)\n",
    "        tail2 = apply(tail2, initialSubstitution)\n",
    "        print(\"tail21 \",tail2)\n",
    "\n",
    "    remainingSubstitution = unify(tail1, tail2)\n",
    "    if not remainingSubstitution:\n",
    "        return False\n",
    "    \n",
    "    initialSubstitution.extend(remainingSubstitution)\n",
    "    return initialSubstitution"
   ]
  },
  {
   "cell_type": "code",
   "execution_count": 44,
   "metadata": {},
   "outputs": [
    {
     "name": "stdout",
     "output_type": "stream",
     "text": [
      "Head1  a\n",
      "Head2  y\n",
      "initial  [('y', '|', 'a')]\n",
      "tail1  knows(x)\n",
      "tail2  knows(Y)\n",
      "tail11  knows(x)\n",
      "tail21  knows(Y)\n",
      "Head1  x\n",
      "Head2  Y\n",
      "initial  [('Y', '|', 'x')]\n",
      "Substitutions:\n",
      "[('y', '|', 'a'), ('Y', '|', 'x')]\n"
     ]
    }
   ],
   "source": [
    "exp1 = \"knows(a,x)\"\n",
    "exp2 = \"knows(y,Y)\"\n",
    "substitutions = unify(exp1, exp2)\n",
    "print(\"Substitutions:\")\n",
    "print(substitutions)"
   ]
  },
  {
   "cell_type": "code",
   "execution_count": 30,
   "metadata": {},
   "outputs": [
    {
     "name": "stdout",
     "output_type": "stream",
     "text": [
      "Substitutions:\n",
      "[('A', 'y'), ('mother(y)', 'x')]\n"
     ]
    }
   ],
   "source": [
    "1zexp1 = \"knows(A,x)\"\n",
    "exp2 = \"knows(y,mother(y))\"\n",
    "substitutions = unify(exp1, exp2)\n",
    "print(\"Substitutions:\")\n",
    "print(substitutions)"
   ]
  },
  {
   "cell_type": "code",
   "execution_count": null,
   "metadata": {},
   "outputs": [],
   "source": []
  }
 ],
 "metadata": {
  "kernelspec": {
   "display_name": "Python 3",
   "language": "python",
   "name": "python3"
  },
  "language_info": {
   "codemirror_mode": {
    "name": "ipython",
    "version": 3
   },
   "file_extension": ".py",
   "mimetype": "text/x-python",
   "name": "python",
   "nbconvert_exporter": "python",
   "pygments_lexer": "ipython3",
   "version": "3.8.3"
  }
 },
 "nbformat": 4,
 "nbformat_minor": 4
}
